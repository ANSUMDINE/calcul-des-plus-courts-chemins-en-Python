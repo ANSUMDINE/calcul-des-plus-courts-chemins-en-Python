{
 "cells": [
  {
   "cell_type": "markdown",
   "id": "658b3a74",
   "metadata": {},
   "source": [
    "<h1> CCTP : calcul des plus courts chémins <h1>"
   ]
  },
  {
   "cell_type": "markdown",
   "id": "75ea1d9b",
   "metadata": {},
   "source": [
    "<h5>Nom et Prénom : ANSUMDINE SAID </h5>                                                     "
   ]
  },
  {
   "cell_type": "markdown",
   "id": "d8631809",
   "metadata": {},
   "source": [
    "# Exercice 1.1"
   ]
  },
  {
   "cell_type": "markdown",
   "id": "4770235a",
   "metadata": {},
   "source": [
    "### En  s'inspirant de la classe GrapheOLS écrite dans le TP1 pour représenter des graphes orientés par liste d’adjacence,\n",
    "### codons une classe GrapheOPLA pour représenter des graphes Orientés Pondérés par Listes d’Adjacence.\n"
   ]
  },
  {
   "cell_type": "code",
   "execution_count": 1,
   "id": "be00f8d0",
   "metadata": {
    "tags": []
   },
   "outputs": [],
   "source": [
    "class GrapheOPLA:\n",
    "    #Classe de graphes Orientés pondérés représentés par Listes d'Adjacences\n",
    "    # La fonction __init__ construit un graphe où tous les sommets sont isolés (aucun arc)\n",
    "    # le dictionnaire associe donc à chaque sommet une liste d'adjacence vide\n",
    "    # On choisit de représenter les arêtes adjacentes à un sommet x\n",
    "    # par une liste de couples (y,p) où p est le poids de l'arête (x,y)\n",
    "    def __init__ (self, sommets):\n",
    "        self.som = sommets\n",
    "        self.dict = dict()\n",
    "        for s in self.som:\n",
    "            self.dict[s]=dict()\n",
    "        \n",
    "    def sommets(self):\n",
    "        \"\"\" Retourne la  liste des sommets du graphe\"\"\"\n",
    "        # On crée une nouvelle liste, sinon on donne \n",
    "        # la possibilité de modifier les sommets depuis l'extérieur\n",
    "        # de la classe\n",
    "        return self.som\n",
    "    \n",
    "    def ajouteArc(self, x, y, p):\n",
    "        # On modifie le dictionnaire en ajoutant dans la liste des successeurs de x \n",
    "        # Comme le graphe est orienté on ajoute aussi le même poids\n",
    "        assert (x in self.som), \"ajouteArc : \"+str(x)+\" sommet(s) inexistant\"\n",
    "        assert (y in self.som), \"ajouteArc : \"+str(y)+\" sommet(s) inexistant\"\n",
    "        if not y in self.dict[x]:\n",
    "            self.dict[x][y] = p\n",
    "        \n",
    "    def ajouteLesArcs(self, larcs):\n",
    "        \"\"\" Ajoute au graphe une liste d'arcs avec leurs couples donnés sous sous forme \n",
    "        de couples de sommets\"\"\"\n",
    "        # On utilise ajouteArc\n",
    "        for (x,y,p) in larcs:\n",
    "            self.ajouteArc(x, y, p)\n",
    "            \n",
    "    def poid(self, x,y):\n",
    "        \"\"\" retourne le poids d’un arc dont les extrémités sont données en paramètres. Si l’arc n’existe pas la\n",
    "        méthodes retourne la valeur infinie\"\"\"\n",
    "        if y in self.dict[x]:\n",
    "            return self.dict[x][y]\n",
    "        else:\n",
    "            return float('inf')\n",
    "        \n",
    "    def supArc(self, x, y):\n",
    "        \"\"\"supprime du graphe l’arc dont les sommets initial sont donnés en paramètres\"\"\"\n",
    "        if y in self.dict[x]:\n",
    "            self.dict[x].pop(y)\n",
    "            \n",
    "    def lesArcs(self):\n",
    "        \"\"\" retourne la liste des arcs du graphe\"\"\"\n",
    "        arc = []\n",
    "        for x in self.dict.keys():\n",
    "            for y in self.dict[x].keys():\n",
    "                arc.append((x, y, self.dict[x][y]))\n",
    "        return arc\n",
    "        \n",
    "    \n",
    "    def successeurs(self, x):\n",
    "        \"\"\"qui retourne la liste des successeurs du sommet donné en paramètre\"\"\"\n",
    "        assert x in self.som, \"successeurs : \"+str(x)+\" sommet inexistant\"\n",
    "        # Ici aussi on prend soin de retourner une nouvelle liste \n",
    "        # formée à partir de la liste associé à la clé x dans dict\n",
    "        return list(self.dict[x])\n",
    "        \n",
    "    def predecesseurs(self, x):\n",
    "        \"\"\"Retourne la liste des prédécesseurs du sommet x\"\"\"\n",
    "        assert x in self.som, \"successeurs : \"+str(x)+\" sommet inexistant\"\n",
    "        # C'est la liste de sommets pour lesquels x est successeurs,\n",
    "        # on construit la liste des sommets s tels que x est dans la liste d'adjacence\n",
    "        return [ y for y in self.som if x in self.dict[y] ]\n",
    "               \n",
    "    def voisins(self, x):\n",
    "        \"\"\"Retourne la liste voisisn du sommet x\"\"\"\n",
    "        pred = self.predecesseurs(x)\n",
    "        suc = self.successeurs(x)\n",
    "        return pred + [x for x in suc if not(x in pred)]\n",
    "    \n",
    "    def degreEntrant(self, x):\n",
    "        \"\"\"qui retourne le degré entrant du sommet donné en paramètre\"\"\"\n",
    "        assert x in self.som, \"degreSortant : \"+str(x)+\" sommet inexistant\"\n",
    "        # Le degré entrant est égal au nombre de prédécesseurs de x\n",
    "        return len(self.predecesseurs(x))\n",
    "    \n",
    "    def degreSortant(self, x):\n",
    "        \"\"\"qui retourne le degré sortant du sommet donné en paramètre\"\"\"\n",
    "        assert x in self.som, \"degreSortant : \"+str(x)+\" sommet inexistant\"\n",
    "        # Le degré sortant est égal au nombre de successeurs\n",
    "        return len(self.successeurs(x))\n",
    "    \n",
    "    def affiche(self):\n",
    "        print(\"Ensemble des sommets : \"+str(self.sommets()))\n",
    "        for s in self.sommets():\n",
    "            print(\"Le sommet \"+str(s)+\" a pour successeurs : \"+ str(self.dict[s]))\n",
    "    "
   ]
  },
  {
   "cell_type": "code",
   "execution_count": 2,
   "id": "00a7a3b8",
   "metadata": {
    "tags": []
   },
   "outputs": [],
   "source": [
    "x = GrapheOPLA(['x1','x2','x3','x4','x5', 'x6'])"
   ]
  },
  {
   "cell_type": "code",
   "execution_count": 3,
   "id": "6e168120",
   "metadata": {
    "tags": []
   },
   "outputs": [
    {
     "data": {
      "text/plain": [
       "['x1', 'x2', 'x3', 'x4', 'x5', 'x6']"
      ]
     },
     "execution_count": 3,
     "metadata": {},
     "output_type": "execute_result"
    }
   ],
   "source": [
    "x.sommets()"
   ]
  },
  {
   "cell_type": "code",
   "execution_count": 4,
   "id": "e4e1689f",
   "metadata": {
    "tags": []
   },
   "outputs": [],
   "source": [
    "x.ajouteArc('x1', 'x2', 2)\n",
    "x.ajouteArc('x1', 'x4', 1)\n",
    "x.ajouteArc('x2', 'x3', 4)\n",
    "x.ajouteArc('x2', 'x4', 2)\n",
    "x.ajouteArc('x3', 'x2', 3)\n",
    "x.ajouteArc('x3', 'x5', -1)\n",
    "x.ajouteArc('x3', 'x4', -2)\n",
    "x.ajouteArc('x4', 'x5', 4)\n",
    "x.ajouteArc('x5', 'x3', 2)\n",
    "x.ajouteArc('x6', 'x3', 4)\n",
    "x.ajouteArc('x6', 'x5', -2)"
   ]
  },
  {
   "cell_type": "code",
   "execution_count": 5,
   "id": "b2860e56",
   "metadata": {
    "tags": []
   },
   "outputs": [],
   "source": [
    "x.ajouteLesArcs((('x5', 'x4', 3),('x6', 'x5', -2)))"
   ]
  },
  {
   "cell_type": "code",
   "execution_count": 6,
   "id": "59b94ecb",
   "metadata": {
    "tags": []
   },
   "outputs": [
    {
     "data": {
      "text/plain": [
       "['x3', 'x4']"
      ]
     },
     "execution_count": 6,
     "metadata": {},
     "output_type": "execute_result"
    }
   ],
   "source": [
    "x.successeurs('x2')"
   ]
  },
  {
   "cell_type": "code",
   "execution_count": 7,
   "id": "e659c126",
   "metadata": {
    "tags": []
   },
   "outputs": [
    {
     "data": {
      "text/plain": [
       "[('x1', 'x2', 2),\n",
       " ('x1', 'x4', 1),\n",
       " ('x2', 'x3', 4),\n",
       " ('x2', 'x4', 2),\n",
       " ('x3', 'x2', 3),\n",
       " ('x3', 'x5', -1),\n",
       " ('x3', 'x4', -2),\n",
       " ('x4', 'x5', 4),\n",
       " ('x5', 'x3', 2),\n",
       " ('x5', 'x4', 3),\n",
       " ('x6', 'x3', 4),\n",
       " ('x6', 'x5', -2)]"
      ]
     },
     "execution_count": 7,
     "metadata": {},
     "output_type": "execute_result"
    }
   ],
   "source": [
    "x.lesArcs()"
   ]
  },
  {
   "cell_type": "code",
   "execution_count": 8,
   "id": "24ed951f",
   "metadata": {
    "tags": []
   },
   "outputs": [
    {
     "data": {
      "text/plain": [
       "['x3', 'x5']"
      ]
     },
     "execution_count": 8,
     "metadata": {},
     "output_type": "execute_result"
    }
   ],
   "source": [
    "x.successeurs('x6')"
   ]
  },
  {
   "cell_type": "code",
   "execution_count": 9,
   "id": "5ef4e140",
   "metadata": {
    "tags": []
   },
   "outputs": [
    {
     "data": {
      "text/plain": [
       "['x1', 'x3']"
      ]
     },
     "execution_count": 9,
     "metadata": {},
     "output_type": "execute_result"
    }
   ],
   "source": [
    "x.predecesseurs('x2')"
   ]
  },
  {
   "cell_type": "code",
   "execution_count": 10,
   "id": "35db3f92",
   "metadata": {
    "tags": []
   },
   "outputs": [
    {
     "data": {
      "text/plain": [
       "['x1', 'x2', 'x3', 'x5']"
      ]
     },
     "execution_count": 10,
     "metadata": {},
     "output_type": "execute_result"
    }
   ],
   "source": [
    "x.voisins('x4')"
   ]
  },
  {
   "cell_type": "code",
   "execution_count": 11,
   "id": "aa958385",
   "metadata": {
    "tags": []
   },
   "outputs": [
    {
     "data": {
      "text/plain": [
       "['x2', 'x5', 'x6', 'x4']"
      ]
     },
     "execution_count": 11,
     "metadata": {},
     "output_type": "execute_result"
    }
   ],
   "source": [
    "x.voisins('x3')"
   ]
  },
  {
   "cell_type": "code",
   "execution_count": 12,
   "id": "7997c9c4",
   "metadata": {
    "tags": []
   },
   "outputs": [
    {
     "data": {
      "text/plain": [
       "['x1', 'x2', 'x3', 'x4', 'x5', 'x6']"
      ]
     },
     "execution_count": 12,
     "metadata": {},
     "output_type": "execute_result"
    }
   ],
   "source": [
    "x.som"
   ]
  },
  {
   "cell_type": "code",
   "execution_count": 13,
   "id": "b7f84f71",
   "metadata": {
    "tags": []
   },
   "outputs": [
    {
     "data": {
      "text/plain": [
       "3"
      ]
     },
     "execution_count": 13,
     "metadata": {},
     "output_type": "execute_result"
    }
   ],
   "source": [
    "x.poid('x5', 'x4')"
   ]
  },
  {
   "cell_type": "code",
   "execution_count": 14,
   "id": "c0a53123",
   "metadata": {
    "tags": []
   },
   "outputs": [],
   "source": [
    "x.supArc('x1', 'x2')"
   ]
  },
  {
   "cell_type": "code",
   "execution_count": 15,
   "id": "065d8b5f",
   "metadata": {
    "tags": []
   },
   "outputs": [
    {
     "data": {
      "text/plain": [
       "inf"
      ]
     },
     "execution_count": 15,
     "metadata": {},
     "output_type": "execute_result"
    }
   ],
   "source": [
    "x.poid('x1', 'x2')"
   ]
  },
  {
   "cell_type": "code",
   "execution_count": 16,
   "id": "f81a9520",
   "metadata": {
    "tags": []
   },
   "outputs": [],
   "source": [
    "x.ajouteArc('x1', 'x2', 2)"
   ]
  },
  {
   "cell_type": "code",
   "execution_count": 17,
   "id": "2cbc121b",
   "metadata": {
    "tags": []
   },
   "outputs": [
    {
     "data": {
      "text/plain": [
       "4"
      ]
     },
     "execution_count": 17,
     "metadata": {},
     "output_type": "execute_result"
    }
   ],
   "source": [
    "x.degreEntrant('x4')"
   ]
  },
  {
   "cell_type": "code",
   "execution_count": 18,
   "id": "19b1287b",
   "metadata": {
    "tags": []
   },
   "outputs": [
    {
     "data": {
      "text/plain": [
       "1"
      ]
     },
     "execution_count": 18,
     "metadata": {},
     "output_type": "execute_result"
    }
   ],
   "source": [
    "x.degreSortant('x4')"
   ]
  },
  {
   "cell_type": "code",
   "execution_count": 19,
   "id": "17e010e6",
   "metadata": {
    "tags": []
   },
   "outputs": [
    {
     "data": {
      "text/plain": [
       "{'x3': 4, 'x4': 2}"
      ]
     },
     "execution_count": 19,
     "metadata": {},
     "output_type": "execute_result"
    }
   ],
   "source": [
    "x.dict['x2']"
   ]
  },
  {
   "cell_type": "code",
   "execution_count": 20,
   "id": "4590d6bd",
   "metadata": {
    "tags": []
   },
   "outputs": [
    {
     "name": "stdout",
     "output_type": "stream",
     "text": [
      "Ensemble des sommets : ['x1', 'x2', 'x3', 'x4', 'x5', 'x6']\n",
      "Le sommet x1 a pour successeurs : {'x4': 1, 'x2': 2}\n",
      "Le sommet x2 a pour successeurs : {'x3': 4, 'x4': 2}\n",
      "Le sommet x3 a pour successeurs : {'x2': 3, 'x5': -1, 'x4': -2}\n",
      "Le sommet x4 a pour successeurs : {'x5': 4}\n",
      "Le sommet x5 a pour successeurs : {'x3': 2, 'x4': 3}\n",
      "Le sommet x6 a pour successeurs : {'x3': 4, 'x5': -2}\n"
     ]
    }
   ],
   "source": [
    "x.affiche()"
   ]
  },
  {
   "cell_type": "markdown",
   "id": "acb20544",
   "metadata": {},
   "source": [
    "# 2  Fonctions auxiliaires"
   ]
  },
  {
   "cell_type": "code",
   "execution_count": 21,
   "id": "10074ae5",
   "metadata": {
    "tags": []
   },
   "outputs": [],
   "source": [
    "def arcNegatif(G):\n",
    "    \"\"\"retourne False si le graphene possède aucun arc négatif et True sinon\"\"\"\n",
    "    #On parcours les sommets\n",
    "    #Pour chaque sommets, on parcours les successeurs\n",
    "    #On regarde sur chaque successeurs, s'il y a un poid négatif\n",
    "    for x in G.sommets():\n",
    "        for y in G.successeurs(x):\n",
    "            if G.poid(x,y) < 0:\n",
    "                return False\n",
    "    return True"
   ]
  },
  {
   "cell_type": "code",
   "execution_count": 22,
   "id": "2964ad87",
   "metadata": {
    "tags": []
   },
   "outputs": [
    {
     "data": {
      "text/plain": [
       "False"
      ]
     },
     "execution_count": 22,
     "metadata": {},
     "output_type": "execute_result"
    }
   ],
   "source": [
    "#Le graphe dans l'ennoncé est négatif, on teste pour voir\n",
    "arcNegatif(x)"
   ]
  },
  {
   "cell_type": "code",
   "execution_count": 23,
   "id": "9b0e2874",
   "metadata": {
    "tags": []
   },
   "outputs": [],
   "source": [
    "#On supprime les arcs négatifs\n",
    "x.supArc('x3', 'x5')\n",
    "x.supArc('x6', 'x5')\n",
    "x.supArc('x3', 'x4')"
   ]
  },
  {
   "cell_type": "code",
   "execution_count": 24,
   "id": "b53e0380",
   "metadata": {
    "tags": []
   },
   "outputs": [
    {
     "data": {
      "text/plain": [
       "True"
      ]
     },
     "execution_count": 24,
     "metadata": {},
     "output_type": "execute_result"
    }
   ],
   "source": [
    "arcNegatif(x)"
   ]
  },
  {
   "cell_type": "code",
   "execution_count": 25,
   "id": "e359dfca",
   "metadata": {
    "tags": []
   },
   "outputs": [],
   "source": [
    "#On remet les arcs négatif\n",
    "x.ajouteArc('x3', 'x5', -1)\n",
    "x.ajouteArc('x3', 'x4', -2)\n",
    "x.ajouteArc('x6', 'x5', -2)"
   ]
  },
  {
   "cell_type": "code",
   "execution_count": 26,
   "id": "0ab33667",
   "metadata": {
    "tags": []
   },
   "outputs": [],
   "source": [
    "def circuit(G):\n",
    "    \"\"\"retourne True si le graphe possède un circuit, et False sinon\"\"\"\n",
    "    #On déclare une pile P : pour parcourir tout les sommets\n",
    "    #Les coloriages bleu, vert et rouges\n",
    "    #La couleur bleu, lorsque le sommet n'est pas encore visité: Au depart, tout les sommets sont en bleu\n",
    "    #La couleur vert : s'il est encors de visite\n",
    "    #La couleur rouge : s'il est déjà visité\n",
    "    p = []\n",
    "    bleu = []\n",
    "    vert = []\n",
    "    rouge = []\n",
    "    #On mets tout les sommets en bleu\n",
    "    for x in G.sommets():\n",
    "        bleu.append(x)\n",
    "    #On met le sommet en vert et on empile le sommet\n",
    "    vert.append(bleu[0])\n",
    "    p.append(bleu[0])\n",
    "    #Tant que la pile n'est pas vide\n",
    "    while p:\n",
    "        #on associe x au premier élément de la pile\n",
    "        x = p[0]\n",
    "        #On parcours les successeurs de x: prémier élément de la pile\n",
    "        for y in G.successeurs(x):\n",
    "            #Si le successeurs de x est colorié en vert, alors il y a circuit, on retourne True\n",
    "            if y in vert:\n",
    "                return True\n",
    "            elif y in bleu:\n",
    "                vert.append(y)\n",
    "                p.append(y)\n",
    "            else:\n",
    "                rouge.append(x)\n",
    "                del p[0]\n",
    "        if not x in rouge:\n",
    "            rouge.append(x)\n",
    "            del p[0]\n",
    "    return False"
   ]
  },
  {
   "cell_type": "code",
   "execution_count": 27,
   "id": "917524db",
   "metadata": {
    "tags": []
   },
   "outputs": [
    {
     "data": {
      "text/plain": [
       "True"
      ]
     },
     "execution_count": 27,
     "metadata": {},
     "output_type": "execute_result"
    }
   ],
   "source": [
    "#Le graphe dans admet un circuit, on teste pour voir\n",
    "circuit(x)"
   ]
  },
  {
   "cell_type": "code",
   "execution_count": 28,
   "id": "97921f53",
   "metadata": {
    "tags": []
   },
   "outputs": [],
   "source": [
    "#On teste sur un graphe qui n'a pas de circuit\n",
    "A = GrapheOPLA(['x1','x2','x3'])"
   ]
  },
  {
   "cell_type": "code",
   "execution_count": 29,
   "id": "5e7735ae",
   "metadata": {
    "tags": []
   },
   "outputs": [],
   "source": [
    "A.ajouteArc('x1', 'x2', 2)\n",
    "A.ajouteArc('x1', 'x3', 1)"
   ]
  },
  {
   "cell_type": "code",
   "execution_count": 30,
   "id": "581f62fd",
   "metadata": {
    "tags": []
   },
   "outputs": [
    {
     "data": {
      "text/plain": [
       "False"
      ]
     },
     "execution_count": 30,
     "metadata": {},
     "output_type": "execute_result"
    }
   ],
   "source": [
    "circuit(A)"
   ]
  },
  {
   "cell_type": "markdown",
   "id": "5fabe1ec",
   "metadata": {},
   "source": [
    "# 3 Algorithme générique PCC"
   ]
  },
  {
   "cell_type": "code",
   "execution_count": 50,
   "id": "ec332909",
   "metadata": {
    "tags": []
   },
   "outputs": [],
   "source": [
    "def ppcgenerique(G, S, verbose):\n",
    "    \"\"\"Qui code l’algorithme générique de calcul des plus courts chemins d’origine S dans G\"\"\"\n",
    "    \"\"\"retourner comme résultat un couple de dictionnaires (delta, pred) correspondant aux tableaux calculés par l’algorithme\"\"\"\n",
    "    #déclaration des variables :\n",
    "    #delta : qui donne pour chaque sommet x du graphe, la longueur du plus court chemin de S à x\n",
    "    delta = {}\n",
    "    # pred : qui donne pour chaque sommet x du graphe, le spmmet qui le précede dans le plus court chemin\n",
    "    pred = {}\n",
    "    # L: est une liste qui aide à parcours tout les sommets\n",
    "    L = []\n",
    "    \n",
    "    L.append(S)\n",
    "    if verbose:\n",
    "        print(\"***Recherche de plus court chemin d'origine \" +str(S))\n",
    "    for x in G.sommets():\n",
    "        delta[x] = float('inf')\n",
    "        pred[x] = None\n",
    "    delta[S] = 0\n",
    "    while L:\n",
    "        #Sélectionner un sommet x dans L et l’en retirer\n",
    "        x = L[0]\n",
    "        if verbose:\n",
    "            print(\"---Les sommets à examiner sont :\" +str(L))\n",
    "        del L[0]\n",
    "        if verbose:\n",
    "            print(\"Examen du sommet \" +str(x)+ \": \")\n",
    "            print(\"Les successeurs sont : \" +str(G.successeurs(x)))\n",
    "        for y in G.successeurs(x):\n",
    "            if verbose :\n",
    "                    print(\"La distance actuelle de \" +str(x)+ \" à \" +str(y)+ \" est \"+str(delta[y]))\n",
    "            if delta[y] > delta[x] + G.poid(x, y):\n",
    "                delta[y] = delta[x] + G.poid(x, y)\n",
    "                if verbose:\n",
    "                    print(\"En passant par \"+str(x)+ \" Elle serait \"+str(delta[y]))\n",
    "                    print(\"Ajout de l'arc \"+str(x)+ \" -> \" +str(y))\n",
    "                    print(\"On ajoute \"+str(y)+ \" dans les sommets à examiner\")\n",
    "                pred[y] = x\n",
    "                #Ajouter y dans L\n",
    "                L.append(y)\n",
    "    return (delta, pred)"
   ]
  },
  {
   "cell_type": "code",
   "execution_count": 51,
   "id": "7c22ef19",
   "metadata": {
    "tags": []
   },
   "outputs": [
    {
     "data": {
      "text/plain": [
       "({'x1': 0, 'x2': 2, 'x3': 6, 'x4': 1, 'x5': 5, 'x6': inf},\n",
       " {'x1': None, 'x2': 'x1', 'x3': 'x2', 'x4': 'x1', 'x5': 'x4', 'x6': None})"
      ]
     },
     "execution_count": 51,
     "metadata": {},
     "output_type": "execute_result"
    }
   ],
   "source": [
    "ppcgenerique(x, 'x1', False)"
   ]
  },
  {
   "cell_type": "code",
   "execution_count": 52,
   "id": "cb0ddf39",
   "metadata": {
    "tags": []
   },
   "outputs": [
    {
     "name": "stdout",
     "output_type": "stream",
     "text": [
      "***Recherche de plus court chemin d'origine x1\n",
      "---Les sommets à examiner sont :['x1']\n",
      "Examen du sommet x1: \n",
      "Les successeurs sont : ['x4', 'x2']\n",
      "La distance actuelle de x1 à x4 est inf\n",
      "En passant par x1 Elle serait 1\n",
      "Ajout de l'arc x1 -> x4\n",
      "On ajoute x4 dans les sommets à examiner\n",
      "La distance actuelle de x1 à x2 est inf\n",
      "En passant par x1 Elle serait 2\n",
      "Ajout de l'arc x1 -> x2\n",
      "On ajoute x2 dans les sommets à examiner\n",
      "---Les sommets à examiner sont :['x4', 'x2']\n",
      "Examen du sommet x4: \n",
      "Les successeurs sont : ['x5']\n",
      "La distance actuelle de x4 à x5 est inf\n",
      "En passant par x4 Elle serait 5\n",
      "Ajout de l'arc x4 -> x5\n",
      "On ajoute x5 dans les sommets à examiner\n",
      "---Les sommets à examiner sont :['x2', 'x5']\n",
      "Examen du sommet x2: \n",
      "Les successeurs sont : ['x3', 'x4']\n",
      "La distance actuelle de x2 à x3 est inf\n",
      "En passant par x2 Elle serait 6\n",
      "Ajout de l'arc x2 -> x3\n",
      "On ajoute x3 dans les sommets à examiner\n",
      "La distance actuelle de x2 à x4 est 1\n",
      "---Les sommets à examiner sont :['x5', 'x3']\n",
      "Examen du sommet x5: \n",
      "Les successeurs sont : ['x3', 'x4']\n",
      "La distance actuelle de x5 à x3 est 6\n",
      "La distance actuelle de x5 à x4 est 1\n",
      "---Les sommets à examiner sont :['x3']\n",
      "Examen du sommet x3: \n",
      "Les successeurs sont : ['x2', 'x5', 'x4']\n",
      "La distance actuelle de x3 à x2 est 2\n",
      "La distance actuelle de x3 à x5 est 5\n",
      "La distance actuelle de x3 à x4 est 1\n"
     ]
    },
    {
     "data": {
      "text/plain": [
       "({'x1': 0, 'x2': 2, 'x3': 6, 'x4': 1, 'x5': 5, 'x6': inf},\n",
       " {'x1': None, 'x2': 'x1', 'x3': 'x2', 'x4': 'x1', 'x5': 'x4', 'x6': None})"
      ]
     },
     "execution_count": 52,
     "metadata": {},
     "output_type": "execute_result"
    }
   ],
   "source": [
    "ppcgenerique(x, 'x1', True)"
   ]
  },
  {
   "cell_type": "code",
   "execution_count": 34,
   "id": "654cbd4f",
   "metadata": {
    "tags": []
   },
   "outputs": [],
   "source": [
    "#On reprend l'exemple du cours\n",
    "S = GrapheOPLA(['s1','s2','s3','s4','s5', 's6'])"
   ]
  },
  {
   "cell_type": "code",
   "execution_count": 35,
   "id": "50a76516",
   "metadata": {
    "tags": []
   },
   "outputs": [],
   "source": [
    "S.ajouteArc('s1', 's2', 10)\n",
    "S.ajouteArc('s1', 's5', 6)\n",
    "S.ajouteArc('s1', 's3', 3)\n",
    "S.ajouteArc('s2', 's1', 0)\n",
    "S.ajouteArc('s3', 's2', 4)\n",
    "S.ajouteArc('s3', 's5', 2)\n",
    "S.ajouteArc('s4', 's3', -1)\n",
    "S.ajouteArc('s4', 's5', 3)\n",
    "S.ajouteArc('s5', 's6', 1)\n",
    "S.ajouteArc('s5', 's2', 0)\n",
    "S.ajouteArc('s6', 's1', -2)\n",
    "S.ajouteArc('s6', 's2', 1)"
   ]
  },
  {
   "cell_type": "code",
   "execution_count": 53,
   "id": "68f64177",
   "metadata": {
    "tags": []
   },
   "outputs": [
    {
     "name": "stdout",
     "output_type": "stream",
     "text": [
      "***Recherche de plus court chemin d'origine s1\n",
      "---Les sommets à examiner sont :['s1']\n",
      "Examen du sommet s1: \n",
      "Les successeurs sont : ['s2', 's5', 's3']\n",
      "La distance actuelle de s1 à s2 est inf\n",
      "En passant par s1 Elle serait 10\n",
      "Ajout de l'arc s1 -> s2\n",
      "On ajoute s2 dans les sommets à examiner\n",
      "La distance actuelle de s1 à s5 est inf\n",
      "En passant par s1 Elle serait 6\n",
      "Ajout de l'arc s1 -> s5\n",
      "On ajoute s5 dans les sommets à examiner\n",
      "La distance actuelle de s1 à s3 est inf\n",
      "En passant par s1 Elle serait 3\n",
      "Ajout de l'arc s1 -> s3\n",
      "On ajoute s3 dans les sommets à examiner\n",
      "---Les sommets à examiner sont :['s2', 's5', 's3']\n",
      "Examen du sommet s2: \n",
      "Les successeurs sont : ['s1']\n",
      "La distance actuelle de s2 à s1 est 0\n",
      "---Les sommets à examiner sont :['s5', 's3']\n",
      "Examen du sommet s5: \n",
      "Les successeurs sont : ['s6', 's2']\n",
      "La distance actuelle de s5 à s6 est inf\n",
      "En passant par s5 Elle serait 7\n",
      "Ajout de l'arc s5 -> s6\n",
      "On ajoute s6 dans les sommets à examiner\n",
      "La distance actuelle de s5 à s2 est 10\n",
      "En passant par s5 Elle serait 6\n",
      "Ajout de l'arc s5 -> s2\n",
      "On ajoute s2 dans les sommets à examiner\n",
      "---Les sommets à examiner sont :['s3', 's6', 's2']\n",
      "Examen du sommet s3: \n",
      "Les successeurs sont : ['s2', 's5']\n",
      "La distance actuelle de s3 à s2 est 6\n",
      "La distance actuelle de s3 à s5 est 6\n",
      "En passant par s3 Elle serait 5\n",
      "Ajout de l'arc s3 -> s5\n",
      "On ajoute s5 dans les sommets à examiner\n",
      "---Les sommets à examiner sont :['s6', 's2', 's5']\n",
      "Examen du sommet s6: \n",
      "Les successeurs sont : ['s1', 's2']\n",
      "La distance actuelle de s6 à s1 est 0\n",
      "La distance actuelle de s6 à s2 est 6\n",
      "---Les sommets à examiner sont :['s2', 's5']\n",
      "Examen du sommet s2: \n",
      "Les successeurs sont : ['s1']\n",
      "La distance actuelle de s2 à s1 est 0\n",
      "---Les sommets à examiner sont :['s5']\n",
      "Examen du sommet s5: \n",
      "Les successeurs sont : ['s6', 's2']\n",
      "La distance actuelle de s5 à s6 est 7\n",
      "En passant par s5 Elle serait 6\n",
      "Ajout de l'arc s5 -> s6\n",
      "On ajoute s6 dans les sommets à examiner\n",
      "La distance actuelle de s5 à s2 est 6\n",
      "En passant par s5 Elle serait 5\n",
      "Ajout de l'arc s5 -> s2\n",
      "On ajoute s2 dans les sommets à examiner\n",
      "---Les sommets à examiner sont :['s6', 's2']\n",
      "Examen du sommet s6: \n",
      "Les successeurs sont : ['s1', 's2']\n",
      "La distance actuelle de s6 à s1 est 0\n",
      "La distance actuelle de s6 à s2 est 5\n",
      "---Les sommets à examiner sont :['s2']\n",
      "Examen du sommet s2: \n",
      "Les successeurs sont : ['s1']\n",
      "La distance actuelle de s2 à s1 est 0\n"
     ]
    },
    {
     "data": {
      "text/plain": [
       "({'s1': 0, 's2': 5, 's3': 3, 's4': inf, 's5': 5, 's6': 6},\n",
       " {'s1': None, 's2': 's5', 's3': 's1', 's4': None, 's5': 's3', 's6': 's5'})"
      ]
     },
     "execution_count": 53,
     "metadata": {},
     "output_type": "execute_result"
    }
   ],
   "source": [
    "ppcgenerique(S, 's1', True)"
   ]
  },
  {
   "cell_type": "markdown",
   "id": "0f6f84b7",
   "metadata": {},
   "source": [
    "# 4 Affichage des PCC et de leurs longueurs à partir de delta et pred"
   ]
  },
  {
   "cell_type": "code",
   "execution_count": 54,
   "id": "87b07990",
   "metadata": {
    "tags": []
   },
   "outputs": [],
   "source": [
    "def afficheChemins(G, S, delta, pred):\n",
    "    \"\"\"Affiche les plus courts chemins depuis le sommet S à tous les sommets du graphe G\"\"\"\n",
    "    #La distance à afficher\n",
    "    dist = 0 \n",
    "    #Pour enregistrer les sommets à examiner\n",
    "    liste = [] \n",
    "    liste.append(S)\n",
    "    print(\"Les longueurs des plus courts chemins d’origine \"+ str(S)+ \" sont : \")\n",
    "    #On parcours la liste tant qu'elle n'est pas vide\n",
    "    while liste:\n",
    "        #On enregistre le sommet en parcours pour ensuite le supprimer dans la liste à examiner\n",
    "        somet = liste[0] \n",
    "        del liste[0]\n",
    "        #On parcours le dictionaire\n",
    "        for x in pred:  \n",
    "            if pred[x] == somet:\n",
    "                # ligne : est une variable string qui sert à afficher le chemin des pred\n",
    "                # t : est une variable qui sert à parcourir les pred de x \n",
    "                ligne = str(x)  \n",
    "                t = x\n",
    "                while pred[t] != None:\n",
    "                    #On parcours tout les pred à afficher pour les mettre dans le variable  ligne\n",
    "                    ligne = str(pred[t])+ \" -> \"+ ligne \n",
    "                    t = pred[t]\n",
    "                dist = delta[somet] + delta[x]\n",
    "                print(ligne + \" Distance = \"+ str(dist))\n",
    "                #On ajoute x dans la liste à examiner\n",
    "                liste.append(x)"
   ]
  },
  {
   "cell_type": "code",
   "execution_count": 55,
   "id": "cfe3adc2",
   "metadata": {
    "tags": []
   },
   "outputs": [],
   "source": [
    "(l1, l2) = ppcgenerique(S, 's1', False)"
   ]
  },
  {
   "cell_type": "code",
   "execution_count": 56,
   "id": "f0c122b5",
   "metadata": {
    "tags": []
   },
   "outputs": [
    {
     "name": "stdout",
     "output_type": "stream",
     "text": [
      "Les longueurs des plus courts chemins d’origine s1 sont : \n",
      "s1 -> s3 Distance = 3\n",
      "s1 -> s3 -> s5 Distance = 8\n",
      "s1 -> s3 -> s5 -> s2 Distance = 10\n",
      "s1 -> s3 -> s5 -> s6 Distance = 11\n"
     ]
    }
   ],
   "source": [
    "afficheChemins(S, 's1', l1, l2)"
   ]
  },
  {
   "cell_type": "code",
   "execution_count": 57,
   "id": "08d3db7f",
   "metadata": {
    "tags": []
   },
   "outputs": [],
   "source": [
    "(l3, l4) = ppcgenerique(x, 'x1', False)"
   ]
  },
  {
   "cell_type": "code",
   "execution_count": 58,
   "id": "09c56c86",
   "metadata": {
    "tags": []
   },
   "outputs": [
    {
     "name": "stdout",
     "output_type": "stream",
     "text": [
      "Les longueurs des plus courts chemins d’origine x1 sont : \n",
      "x1 -> x2 Distance = 2\n",
      "x1 -> x4 Distance = 1\n",
      "x1 -> x2 -> x3 Distance = 8\n",
      "x1 -> x4 -> x5 Distance = 6\n"
     ]
    }
   ],
   "source": [
    "afficheChemins(x, 'x1', l3, l4)"
   ]
  },
  {
   "cell_type": "markdown",
   "id": "5d4543fb",
   "metadata": {},
   "source": [
    "# 5 Algorithme de Dijkstra\n"
   ]
  },
  {
   "cell_type": "code",
   "execution_count": 59,
   "id": "9e7f2c2c",
   "metadata": {
    "tags": []
   },
   "outputs": [],
   "source": [
    "def pccDijkstra(G, S, verbose) :\n",
    "    \"\"\"Qui code l’algorithme Dijkstra de calcul des plus courts chemins d’origine S dans G\"\"\"\n",
    "    \"\"\"retourner comme résultat un couple de dictionnaires (delta, pred) correspondant aux tableaux calculés par l’algorithme\"\"\"\n",
    "    #Initialisation et déclaration des variables : Au départ tout les sommets sont à l'infini sauf le sommets mis en paramètre\n",
    " \n",
    "    #déclaration des variables :\n",
    "    #delta : qui donne pour chaque sommet x du graphe, la longueur du plus court chemin de S à x\n",
    "    delta = {}\n",
    "    # pred : qui donne pour chaque sommet x du graphe, le spmmet qui le précede dans le plus court chemin\n",
    "    pred = {}\n",
    "    #On crée un dictionnaire \"dico\" pour chercher le minimum des valeurs à traiter\n",
    "    dico = {}\n",
    "    #On crée une liste \"traitant\" ; des sommets à traiter\n",
    "    traitant = []\n",
    "    #On crée une liste \"traiter\" ; des sommets deja traité\n",
    "    traiter = []\n",
    "    # mini sert à prend la valeur minimale du successeur du sommet qu'on parcours \n",
    "    mini = 0\n",
    "    \n",
    "    for x in G.sommets():\n",
    "        delta[x] = float('inf')\n",
    "        dico[x] = float('inf')\n",
    "        pred[x] = None\n",
    "        traitant.append(x)\n",
    "    delta[S] = 0\n",
    "    dico[S] = 0\n",
    "    if verbose:\n",
    "        print(\"*** Dijkstra : recherche des plus courts chemins d’origine \"+str(S))\n",
    "    #Traitement : On commence à traiter le sommet, au depart, son delta est nul\n",
    "    x = S\n",
    "    while traitant:\n",
    "        #On cherche le sommet dont son delta est plus petit et on le met dans les sommets deja traité:\n",
    "        n = min(dico.values())\n",
    "        for key in dico:\n",
    "            if dico[key] == n:\n",
    "                p = key\n",
    "                del dico[key]\n",
    "                break\n",
    "        if verbose:\n",
    "            print(\"Les sommets atteints sont \"+str(traiter))\n",
    "            print(\"Les sommets non atteints sont \"+str(traitant))\n",
    "            print(\"-Le sommet le plus proche de \"+str(x)+ \" est \"+str(p))\n",
    "            print(\"Il est à la distance \"+str(delta[p]))\n",
    "            print(\"-> On examine les distances des sommets successeurs non atteints de \"+str(p))\n",
    "        x = p\n",
    "        for i in range(len(traitant)):\n",
    "            if x == traitant[i]:\n",
    "                del traitant[i]\n",
    "                break\n",
    "        #On parcours les successeurs de x, et on cherche le plus court chemin de chaque successeurs\n",
    "        for y in G.successeurs(x):\n",
    "            if verbose:\n",
    "                print(\"-Sommet \"+str(y)+ \" : delta(\"+str(y)+\") = \"+str(delta[y]))\n",
    "            if delta[y] > delta[x] + G.poid(x,y):\n",
    "                delta[y] = delta[x] + G.poid(x,y)\n",
    "                dico[y] = delta[x] + G.poid(x,y)\n",
    "                if verbose:\n",
    "                    print(\"En passant par \"+str(x)+\" delta(\"+str(y)+\") = \"+str(delta[y]))\n",
    "                #On regarde d'abord si y n'a pas un predecesseurs deja traiter qui est dans le dictionnaire pred\n",
    "                # S'il a, on regarde si on peut relacher l'arc\n",
    "                for z in G.predecesseurs(y):\n",
    "                    if pred[y] == z:\n",
    "                        pred[y] = None\n",
    "                        if verbose:\n",
    "                            print(\"relâchement de l'arc \"+str(z)+ \" -> \"+str(y))\n",
    "                pred[y] = x\n",
    "        traiter.append(x)\n",
    "    return(delta, pred)"
   ]
  },
  {
   "cell_type": "code",
   "execution_count": 60,
   "id": "601c76e1",
   "metadata": {
    "tags": []
   },
   "outputs": [
    {
     "name": "stdout",
     "output_type": "stream",
     "text": [
      "*** Dijkstra : recherche des plus courts chemins d’origine s1\n",
      "Les sommets atteints sont []\n",
      "Les sommets non atteints sont ['s1', 's2', 's3', 's4', 's5', 's6']\n",
      "-Le sommet le plus proche de s1 est s1\n",
      "Il est à la distance 0\n",
      "-> On examine les distances des sommets successeurs non atteints de s1\n",
      "-Sommet s2 : delta(s2) = inf\n",
      "En passant par s1 delta(s2) = 10\n",
      "-Sommet s5 : delta(s5) = inf\n",
      "En passant par s1 delta(s5) = 6\n",
      "-Sommet s3 : delta(s3) = inf\n",
      "En passant par s1 delta(s3) = 3\n",
      "Les sommets atteints sont ['s1']\n",
      "Les sommets non atteints sont ['s2', 's3', 's4', 's5', 's6']\n",
      "-Le sommet le plus proche de s1 est s3\n",
      "Il est à la distance 3\n",
      "-> On examine les distances des sommets successeurs non atteints de s3\n",
      "-Sommet s2 : delta(s2) = 10\n",
      "En passant par s3 delta(s2) = 7\n",
      "relâchement de l'arc s1 -> s2\n",
      "-Sommet s5 : delta(s5) = 6\n",
      "En passant par s3 delta(s5) = 5\n",
      "relâchement de l'arc s1 -> s5\n",
      "Les sommets atteints sont ['s1', 's3']\n",
      "Les sommets non atteints sont ['s2', 's4', 's5', 's6']\n",
      "-Le sommet le plus proche de s3 est s5\n",
      "Il est à la distance 5\n",
      "-> On examine les distances des sommets successeurs non atteints de s5\n",
      "-Sommet s6 : delta(s6) = inf\n",
      "En passant par s5 delta(s6) = 6\n",
      "-Sommet s2 : delta(s2) = 7\n",
      "En passant par s5 delta(s2) = 5\n",
      "relâchement de l'arc s3 -> s2\n",
      "Les sommets atteints sont ['s1', 's3', 's5']\n",
      "Les sommets non atteints sont ['s2', 's4', 's6']\n",
      "-Le sommet le plus proche de s5 est s2\n",
      "Il est à la distance 5\n",
      "-> On examine les distances des sommets successeurs non atteints de s2\n",
      "-Sommet s1 : delta(s1) = 0\n",
      "Les sommets atteints sont ['s1', 's3', 's5', 's2']\n",
      "Les sommets non atteints sont ['s4', 's6']\n",
      "-Le sommet le plus proche de s2 est s6\n",
      "Il est à la distance 6\n",
      "-> On examine les distances des sommets successeurs non atteints de s6\n",
      "-Sommet s1 : delta(s1) = 0\n",
      "-Sommet s2 : delta(s2) = 5\n",
      "Les sommets atteints sont ['s1', 's3', 's5', 's2', 's6']\n",
      "Les sommets non atteints sont ['s4']\n",
      "-Le sommet le plus proche de s6 est s4\n",
      "Il est à la distance inf\n",
      "-> On examine les distances des sommets successeurs non atteints de s4\n",
      "-Sommet s3 : delta(s3) = 3\n",
      "-Sommet s5 : delta(s5) = 5\n"
     ]
    },
    {
     "data": {
      "text/plain": [
       "({'s1': 0, 's2': 5, 's3': 3, 's4': inf, 's5': 5, 's6': 6},\n",
       " {'s1': None, 's2': 's5', 's3': 's1', 's4': None, 's5': 's3', 's6': 's5'})"
      ]
     },
     "execution_count": 60,
     "metadata": {},
     "output_type": "execute_result"
    }
   ],
   "source": [
    "#L'exemple dans le cours\n",
    "pccDijkstra(S, 's1', True)"
   ]
  },
  {
   "cell_type": "code",
   "execution_count": 61,
   "id": "f3c64894",
   "metadata": {
    "tags": []
   },
   "outputs": [],
   "source": [
    "(l5, l6) = pccDijkstra(S, 's1', False)"
   ]
  },
  {
   "cell_type": "code",
   "execution_count": 62,
   "id": "f01bfacc",
   "metadata": {
    "tags": []
   },
   "outputs": [
    {
     "name": "stdout",
     "output_type": "stream",
     "text": [
      "Les longueurs des plus courts chemins d’origine s1 sont : \n",
      "s1 -> s3 Distance = 3\n",
      "s1 -> s3 -> s5 Distance = 8\n",
      "s1 -> s3 -> s5 -> s2 Distance = 10\n",
      "s1 -> s3 -> s5 -> s6 Distance = 11\n"
     ]
    }
   ],
   "source": [
    "afficheChemins(S, 's1', l5, l6)"
   ]
  },
  {
   "cell_type": "code",
   "execution_count": 63,
   "id": "01c77c3e",
   "metadata": {
    "tags": []
   },
   "outputs": [
    {
     "name": "stdout",
     "output_type": "stream",
     "text": [
      "*** Dijkstra : recherche des plus courts chemins d’origine x1\n",
      "Les sommets atteints sont []\n",
      "Les sommets non atteints sont ['x1', 'x2', 'x3', 'x4', 'x5', 'x6']\n",
      "-Le sommet le plus proche de x1 est x1\n",
      "Il est à la distance 0\n",
      "-> On examine les distances des sommets successeurs non atteints de x1\n",
      "-Sommet x4 : delta(x4) = inf\n",
      "En passant par x1 delta(x4) = 1\n",
      "-Sommet x2 : delta(x2) = inf\n",
      "En passant par x1 delta(x2) = 2\n",
      "Les sommets atteints sont ['x1']\n",
      "Les sommets non atteints sont ['x2', 'x3', 'x4', 'x5', 'x6']\n",
      "-Le sommet le plus proche de x1 est x4\n",
      "Il est à la distance 1\n",
      "-> On examine les distances des sommets successeurs non atteints de x4\n",
      "-Sommet x5 : delta(x5) = inf\n",
      "En passant par x4 delta(x5) = 5\n",
      "Les sommets atteints sont ['x1', 'x4']\n",
      "Les sommets non atteints sont ['x2', 'x3', 'x5', 'x6']\n",
      "-Le sommet le plus proche de x4 est x2\n",
      "Il est à la distance 2\n",
      "-> On examine les distances des sommets successeurs non atteints de x2\n",
      "-Sommet x3 : delta(x3) = inf\n",
      "En passant par x2 delta(x3) = 6\n",
      "-Sommet x4 : delta(x4) = 1\n",
      "Les sommets atteints sont ['x1', 'x4', 'x2']\n",
      "Les sommets non atteints sont ['x3', 'x5', 'x6']\n",
      "-Le sommet le plus proche de x2 est x5\n",
      "Il est à la distance 5\n",
      "-> On examine les distances des sommets successeurs non atteints de x5\n",
      "-Sommet x3 : delta(x3) = 6\n",
      "-Sommet x4 : delta(x4) = 1\n",
      "Les sommets atteints sont ['x1', 'x4', 'x2', 'x5']\n",
      "Les sommets non atteints sont ['x3', 'x6']\n",
      "-Le sommet le plus proche de x5 est x3\n",
      "Il est à la distance 6\n",
      "-> On examine les distances des sommets successeurs non atteints de x3\n",
      "-Sommet x2 : delta(x2) = 2\n",
      "-Sommet x5 : delta(x5) = 5\n",
      "-Sommet x4 : delta(x4) = 1\n",
      "Les sommets atteints sont ['x1', 'x4', 'x2', 'x5', 'x3']\n",
      "Les sommets non atteints sont ['x6']\n",
      "-Le sommet le plus proche de x3 est x6\n",
      "Il est à la distance inf\n",
      "-> On examine les distances des sommets successeurs non atteints de x6\n",
      "-Sommet x3 : delta(x3) = 6\n",
      "-Sommet x5 : delta(x5) = 5\n"
     ]
    },
    {
     "data": {
      "text/plain": [
       "({'x1': 0, 'x2': 2, 'x3': 6, 'x4': 1, 'x5': 5, 'x6': inf},\n",
       " {'x1': None, 'x2': 'x1', 'x3': 'x2', 'x4': 'x1', 'x5': 'x4', 'x6': None})"
      ]
     },
     "execution_count": 63,
     "metadata": {},
     "output_type": "execute_result"
    }
   ],
   "source": [
    "#L'exemple dans le contrôle\n",
    "pccDijkstra(x, 'x1', True)"
   ]
  },
  {
   "cell_type": "code",
   "execution_count": 64,
   "id": "cf73c2ce",
   "metadata": {
    "tags": []
   },
   "outputs": [],
   "source": [
    "(l7, l8) = pccDijkstra(x, 'x1', False)"
   ]
  },
  {
   "cell_type": "code",
   "execution_count": 66,
   "id": "0e1fd538",
   "metadata": {
    "tags": []
   },
   "outputs": [
    {
     "name": "stdout",
     "output_type": "stream",
     "text": [
      "Les longueurs des plus courts chemins d’origine x1 sont : \n",
      "x1 -> x2 Distance = 2\n",
      "x1 -> x4 Distance = 1\n",
      "x1 -> x2 -> x3 Distance = 8\n",
      "x1 -> x4 -> x5 Distance = 6\n"
     ]
    }
   ],
   "source": [
    "afficheChemins(x, 'x1', l7, l8)"
   ]
  },
  {
   "cell_type": "code",
   "execution_count": null,
   "id": "594815db-25e1-48ab-b135-67476ed62e7c",
   "metadata": {},
   "outputs": [],
   "source": []
  }
 ],
 "metadata": {
  "kernelspec": {
   "display_name": "Python 3 (ipykernel)",
   "language": "python",
   "name": "python3"
  },
  "language_info": {
   "codemirror_mode": {
    "name": "ipython",
    "version": 3
   },
   "file_extension": ".py",
   "mimetype": "text/x-python",
   "name": "python",
   "nbconvert_exporter": "python",
   "pygments_lexer": "ipython3",
   "version": "3.11.2"
  }
 },
 "nbformat": 4,
 "nbformat_minor": 5
}
